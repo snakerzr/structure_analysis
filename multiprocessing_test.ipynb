{
 "cells": [
  {
   "cell_type": "markdown",
   "id": "ffe1aa38-6bbc-4692-9f7b-855de3a62a59",
   "metadata": {},
   "source": [
    "# Parallel multiprocessed data acqusition and dumping to file test"
   ]
  },
  {
   "cell_type": "code",
   "execution_count": 2,
   "id": "24b3a969-4d1e-4811-8f1d-56f933f4474a",
   "metadata": {},
   "outputs": [
    {
     "name": "stdout",
     "output_type": "stream",
     "text": [
      "MetaTrader5 package author:  MetaQuotes Ltd.\n",
      "MetaTrader5 package version:  5.0.37\n"
     ]
    }
   ],
   "source": [
    "from enum import IntFlag # Для декодирования битовых флагов\n",
    "\n",
    "import datetime as dt\n",
    "import time\n",
    "\n",
    "import numpy as np\n",
    "import pandas as pd\n",
    "\n",
    "import matplotlib.pyplot as plt\n",
    "\n",
    "import MetaTrader5 as mt5\n",
    "\n",
    "\n",
    "# from pandas.plotting import register_matplotlib_converters\n",
    "# register_matplotlib_converters()\n",
    "\n",
    "# выведем данные о пакете MetaTrader5\n",
    "print(\"MetaTrader5 package author: \",mt5.__author__)\n",
    "print(\"MetaTrader5 package version: \",mt5.__version__)"
   ]
  },
  {
   "cell_type": "markdown",
   "id": "05c20e48-6090-43f4-82af-b431185bc2bd",
   "metadata": {},
   "source": [
    "**Ticker**\n",
    "\n",
    "https://www.moex.com/ru/derivatives/equity/indices/  \n",
    "Site with actual RTS futures ticker."
   ]
  },
  {
   "cell_type": "code",
   "execution_count": 2,
   "id": "e254fa28-3fa7-4fcc-ba23-3ce2519ca70a",
   "metadata": {},
   "outputs": [],
   "source": [
    "ticker = 'RIU2'"
   ]
  },
  {
   "cell_type": "code",
   "execution_count": 3,
   "id": "f861578e-90f1-4f5e-9142-a99971c05fd3",
   "metadata": {},
   "outputs": [
    {
     "data": {
      "text/html": [
       "<style>\n",
       "table {float:left}\n",
       "</style>\n"
      ],
      "text/plain": [
       "<IPython.core.display.HTML object>"
      ]
     },
     "metadata": {},
     "output_type": "display_data"
    }
   ],
   "source": [
    "%%html\n",
    "<style>\n",
    "table {float:left}\n",
    "</style>"
   ]
  },
  {
   "cell_type": "code",
   "execution_count": 4,
   "id": "ef720423-ae5a-4726-9109-e1402f1e2bdc",
   "metadata": {},
   "outputs": [
    {
     "name": "stdout",
     "output_type": "stream",
     "text": [
      "(1, 'Success')\n"
     ]
    }
   ],
   "source": [
    "# terminal init\n",
    "if not mt5.initialize():\n",
    "    print(\"initialize() failed, error code =\",mt5.last_error())\n",
    "    quit()\n",
    "else:\n",
    "    print(mt5.last_error())"
   ]
  },
  {
   "cell_type": "markdown",
   "id": "036caf1e-0305-4652-8b89-ccbda0cb930c",
   "metadata": {},
   "source": [
    "The idea is not to miss any market book data and dump it to file in parallel.  \n",
    "Maybe a variable with that data should be emptied every hour or upon reaching a 1 gb in memory."
   ]
  },
  {
   "cell_type": "code",
   "execution_count": 78,
   "id": "34c68d17-49aa-4868-a659-dab08dd459ca",
   "metadata": {},
   "outputs": [],
   "source": [
    "import multiprocessing\n",
    "import time\n",
    "import datetime\n",
    "\n",
    "def create_fake_data(times):\n",
    "    counter = times\n",
    "    df = pd.DataFrame()\n",
    "    previous_end_time = datetime.datetime.now().time()\n",
    "    while counter > 0:\n",
    "        time.sleep(0.01)\n",
    "        \n",
    "        start = datetime.datetime.now().time()\n",
    "        data = np.random.rand(40,10)\n",
    "        data = pd.DataFrame(data)\n",
    "        data['previous_end_time'] = previous_end_time\n",
    "        data['start'] = start\n",
    "        df = pd.concat([df,data])\n",
    "        previous_end_time = datetime.datetime.now().time()\n",
    "        counter -= 1\n",
    "    return df"
   ]
  },
  {
   "cell_type": "code",
   "execution_count": 79,
   "id": "81752d52-341d-4a8a-bee2-dde9745f20ae",
   "metadata": {},
   "outputs": [],
   "source": [
    "%%time\n",
    "temp_ = create_fake_data(1000)\n",
    "\n",
    "temp_['previous_end_time'] = pd.to_datetime(temp_['previous_end_time'],format='%H:%M:%S.%f')\n",
    "temp_['start'] = pd.to_datetime(temp_['start'],format='%H:%M:%S.%f')\n",
    "\n",
    "temp_['timedelta'] = temp_['start'] - temp_['previous_end_time']"
   ]
  },
  {
   "cell_type": "code",
   "execution_count": 93,
   "id": "e3d324b9-5706-4082-b968-8093d47b8d5c",
   "metadata": {},
   "outputs": [
    {
     "data": {
      "text/plain": [
       "4480000"
      ]
     },
     "execution_count": 93,
     "metadata": {},
     "output_type": "execute_result"
    }
   ],
   "source": [
    "temp_.memory_usage().sum()"
   ]
  },
  {
   "cell_type": "code",
   "execution_count": 90,
   "id": "964471a7-efa2-4ebd-86c5-e14054088283",
   "metadata": {},
   "outputs": [
    {
     "name": "stdout",
     "output_type": "stream",
     "text": [
      "<class 'pandas.core.frame.DataFrame'>\n",
      "Int64Index: 40000 entries, 0 to 39\n",
      "Data columns (total 13 columns):\n",
      " #   Column             Non-Null Count  Dtype          \n",
      "---  ------             --------------  -----          \n",
      " 0   0                  40000 non-null  float64        \n",
      " 1   1                  40000 non-null  float64        \n",
      " 2   2                  40000 non-null  float64        \n",
      " 3   3                  40000 non-null  float64        \n",
      " 4   4                  40000 non-null  float64        \n",
      " 5   5                  40000 non-null  float64        \n",
      " 6   6                  40000 non-null  float64        \n",
      " 7   7                  40000 non-null  float64        \n",
      " 8   8                  40000 non-null  float64        \n",
      " 9   9                  40000 non-null  float64        \n",
      " 10  previous_end_time  40000 non-null  datetime64[ns] \n",
      " 11  start              40000 non-null  datetime64[ns] \n",
      " 12  timedelta          40000 non-null  timedelta64[ns]\n",
      "dtypes: datetime64[ns](2), float64(10), timedelta64[ns](1)\n",
      "memory usage: 4.3 MB\n"
     ]
    }
   ],
   "source": [
    "temp_.info()"
   ]
  },
  {
   "cell_type": "code",
   "execution_count": 101,
   "id": "8d8eb264-ed9c-46d0-9fbf-f48828fbdebc",
   "metadata": {},
   "outputs": [],
   "source": [
    "def create_fake_data(conn,times):\n",
    "    counter = times\n",
    "    previous_end_time = datetime.datetime.now().time()\n",
    "    while counter > 0:\n",
    "        df = pd.DataFrame()\n",
    "        while temp_.memory_usage().sum() > 10000000:\n",
    "            start = datetime.datetime.now().time()\n",
    "            data = np.random.rand(40,10)\n",
    "            data = pd.DataFrame(data)\n",
    "            data['previous_end_time'] = previous_end_time\n",
    "            data['start'] = start\n",
    "            df = pd.concat([df,data])\n",
    "            previous_end_time = datetime.datetime.now().time()\n",
    "            print('df_created')\n",
    "        conn.send(df)\n",
    "        counter -= 1\n",
    "    conn.send('end')\n",
    "    print('conn close')\n",
    "    conn.close()\n",
    "    \n",
    "def save_to_csv(conn):\n",
    "    counter = 0\n",
    "    while 1:\n",
    "        df = conn.recv()\n",
    "        if type(df) == str:\n",
    "            print('save_done')\n",
    "            break\n",
    "        df.to_csv('/test/'+str(counter)+'.csv')\n",
    "        print('saved')\n",
    "        counter += 1\n",
    "        \n",
    "parent_conn, child_conn = multiprocessing.Pipe()\n",
    "\n",
    "# creating new processes\n",
    "p1 = multiprocessing.Process(target=create_fake_data, args=(parent_conn,10000))\n",
    "p2 = multiprocessing.Process(target=save_to_csv, args=(child_conn,))\n",
    "\n",
    "# running processes\n",
    "p1.start()\n",
    "p2.start()\n",
    "\n",
    "# wait until processes finish\n",
    "p1.join()\n",
    "p2.join()"
   ]
  },
  {
   "cell_type": "code",
   "execution_count": 96,
   "id": "6c404ffc-37c6-4081-8ea7-483c3b69aba9",
   "metadata": {},
   "outputs": [
    {
     "data": {
      "text/plain": [
       "True"
      ]
     },
     "execution_count": 96,
     "metadata": {},
     "output_type": "execute_result"
    }
   ],
   "source": [
    "str_ = 'end'\n",
    "type(str_) == str"
   ]
  },
  {
   "cell_type": "markdown",
   "id": "1acebab8-751d-4698-9826-31cd097b6315",
   "metadata": {},
   "source": [
    "1. Создает данные пока их не станет 10 мб\n",
    "2. Отправляет\n",
    "3. Сбрасывает начинает заново\n",
    "4. Так столько раз, сколько указано"
   ]
  },
  {
   "cell_type": "code",
   "execution_count": null,
   "id": "5220c365-36aa-4301-87f1-41c10d3cc169",
   "metadata": {},
   "outputs": [],
   "source": [
    "\n",
    "import multiprocessing\n",
    "  \n",
    "def sender(conn, msgs,times):\n",
    "    \"\"\"\n",
    "    function to send messages to other end of pipe\n",
    "    \"\"\"\n",
    "    for msg in msgs:\n",
    "        conn.send(msg)\n",
    "        print(\"Sent the message: {}\".format(msg))\n",
    "    conn.close()\n",
    "  \n",
    "def receiver(conn):\n",
    "    \"\"\"\n",
    "    function to print the messages received from other\n",
    "    end of pipe\n",
    "    \"\"\"\n",
    "    while 1:\n",
    "        msg = conn.recv()\n",
    "        if msg == \"END\":\n",
    "            break\n",
    "        print(\"Received the message: {}\".format(msg))\n",
    "  \n",
    "if __name__ == \"__main__\":\n",
    "    # messages to be sent\n",
    "    msgs = [\"hello\", \"hey\", \"hru?\", \"END\"]\n",
    "  \n",
    "    # creating a pipe\n",
    "    parent_conn, child_conn = multiprocessing.Pipe()\n",
    "  \n",
    "    # creating new processes\n",
    "    p1 = multiprocessing.Process(target=sender, args=(parent_conn,msgs))\n",
    "    p2 = multiprocessing.Process(target=receiver, args=(child_conn,))\n",
    "  \n",
    "    # running processes\n",
    "    p1.start()\n",
    "    p2.start()\n",
    "  \n",
    "    # wait until processes finish\n",
    "    p1.join()\n",
    "    p2.join()"
   ]
  },
  {
   "cell_type": "code",
   "execution_count": null,
   "id": "62f87b3a-cae8-4157-b519-8741bab073e5",
   "metadata": {},
   "outputs": [],
   "source": []
  },
  {
   "cell_type": "code",
   "execution_count": null,
   "id": "fa1caf84-071d-43f4-a308-07fc5b7db223",
   "metadata": {},
   "outputs": [],
   "source": []
  },
  {
   "cell_type": "code",
   "execution_count": null,
   "id": "0866b640-c28f-49aa-ab96-64a34c476348",
   "metadata": {},
   "outputs": [],
   "source": []
  },
  {
   "cell_type": "code",
   "execution_count": 5,
   "id": "b946db18-6412-405c-89f3-79deccd33a34",
   "metadata": {},
   "outputs": [
    {
     "data": {
      "text/html": [
       "<div>\n",
       "<style scoped>\n",
       "    .dataframe tbody tr th:only-of-type {\n",
       "        vertical-align: middle;\n",
       "    }\n",
       "\n",
       "    .dataframe tbody tr th {\n",
       "        vertical-align: top;\n",
       "    }\n",
       "\n",
       "    .dataframe thead th {\n",
       "        text-align: right;\n",
       "    }\n",
       "</style>\n",
       "<table border=\"1\" class=\"dataframe\">\n",
       "  <thead>\n",
       "    <tr style=\"text-align: right;\">\n",
       "      <th></th>\n",
       "    </tr>\n",
       "  </thead>\n",
       "  <tbody>\n",
       "  </tbody>\n",
       "</table>\n",
       "</div>"
      ],
      "text/plain": [
       "Empty DataFrame\n",
       "Columns: []\n",
       "Index: []"
      ]
     },
     "execution_count": 5,
     "metadata": {},
     "output_type": "execute_result"
    }
   ],
   "source": [
    "# Эту штуку нужно как-нибудь запустить на день\n",
    "# С начала торгового дня до конца\n",
    "columns = ['type','price','volume','volume_dbl']\n",
    "\n",
    "df_mb = pd.DataFrame()\n",
    "\n",
    "mt5.market_book_add(ticker)\n",
    "\n",
    "counter = 0\n",
    "\n",
    "while dt.datetime.now().hour < 13:\n",
    "#     print(counter)\n",
    "    df_market_book = pd.DataFrame(mt5.market_book_get(ticker),columns=columns)\n",
    "    df_market_book['time'] = dt.datetime.now()\n",
    "    df_market_book['batch_number'] = counter\n",
    "    df_mb = pd.concat([df_mb,df_market_book])\n",
    "    counter += 1    \n",
    "    time.sleep(0.05)\n",
    "    \n",
    "mt5.market_book_release(ticker)\n",
    "\n",
    "df_mb"
   ]
  },
  {
   "cell_type": "code",
   "execution_count": 6,
   "id": "a6badb98-7c4a-46cd-9936-c021266703c9",
   "metadata": {},
   "outputs": [],
   "source": [
    "# df_mb.info()\n",
    "# df_mb.to_csv('data/market_book.csv')\n",
    "# df_mb['time'].describe(datetime_is_numeric=True)"
   ]
  },
  {
   "cell_type": "code",
   "execution_count": 5,
   "id": "b91b6eca-5ea7-4904-ae33-500bcee2600b",
   "metadata": {},
   "outputs": [
    {
     "data": {
      "text/html": [
       "<div>\n",
       "<style scoped>\n",
       "    .dataframe tbody tr th:only-of-type {\n",
       "        vertical-align: middle;\n",
       "    }\n",
       "\n",
       "    .dataframe tbody tr th {\n",
       "        vertical-align: top;\n",
       "    }\n",
       "\n",
       "    .dataframe thead th {\n",
       "        text-align: right;\n",
       "    }\n",
       "</style>\n",
       "<table border=\"1\" class=\"dataframe\">\n",
       "  <thead>\n",
       "    <tr style=\"text-align: right;\">\n",
       "      <th></th>\n",
       "      <th>type</th>\n",
       "      <th>price</th>\n",
       "      <th>volume</th>\n",
       "      <th>volume_dbl</th>\n",
       "      <th>time</th>\n",
       "    </tr>\n",
       "  </thead>\n",
       "  <tbody>\n",
       "  </tbody>\n",
       "</table>\n",
       "</div>"
      ],
      "text/plain": [
       "Empty DataFrame\n",
       "Columns: [type, price, volume, volume_dbl, time]\n",
       "Index: []"
      ]
     },
     "execution_count": 5,
     "metadata": {},
     "output_type": "execute_result"
    }
   ],
   "source": [
    "# Ф-ция разового запроса стакана\n",
    "# Здесь каждый раз идет регистрация \"сбора инфы о стакане\" с помощью\n",
    "# mt5.market_book_add(symbol),\n",
    "# а затем отзыв\n",
    "# mt5.market_book_release(symbol)\n",
    "def get_market_book(symbol):\n",
    "    mt5.market_book_add(symbol)\n",
    "    columns = ['type','price','volume','volume_dbl']\n",
    "    df_market_book = pd.DataFrame(mt5.market_book_get(symbol),columns=columns)\n",
    "    df_market_book['time'] = dt.datetime.now()\n",
    "\n",
    "    mt5.market_book_release(symbol)\n",
    "    return df_market_book\n",
    "\n",
    "get_market_book(ticker)"
   ]
  },
  {
   "cell_type": "code",
   "execution_count": null,
   "id": "97ee3346-5b40-4f16-88e6-8369bcf3511e",
   "metadata": {},
   "outputs": [],
   "source": [
    "# terminal shutdown MetaTrader 5\n",
    "mt5.shutdown()"
   ]
  }
 ],
 "metadata": {
  "kernelspec": {
   "display_name": "Python 3 (ipykernel)",
   "language": "python",
   "name": "python3"
  },
  "language_info": {
   "codemirror_mode": {
    "name": "ipython",
    "version": 3
   },
   "file_extension": ".py",
   "mimetype": "text/x-python",
   "name": "python",
   "nbconvert_exporter": "python",
   "pygments_lexer": "ipython3",
   "version": "3.9.12"
  }
 },
 "nbformat": 4,
 "nbformat_minor": 5
}
