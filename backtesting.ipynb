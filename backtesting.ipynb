{
 "cells": [
  {
   "cell_type": "code",
   "execution_count": 2,
   "id": "f15cc2ff-f7e4-4093-b810-19bd607e7272",
   "metadata": {},
   "outputs": [],
   "source": [
    "import numpy as np\n",
    "import pandas as pd\n",
    "\n",
    "from backtesting import Strategy\n",
    "from backtesting.lib import crossover\n",
    "\n",
    "from backtesting import Backtest\n",
    "\n",
    "from scripts.data_preparation import load_trades_from_csv, get_bar_stats"
   ]
  },
  {
   "cell_type": "code",
   "execution_count": 3,
   "id": "0679489e-2bc2-47e4-963e-c0daa560c8b0",
   "metadata": {},
   "outputs": [],
   "source": [
    "path = 'data/trades_RIU2@FORTS_2022_08_19_2022_08_19.csv'\n",
    "trades = load_trades_from_csv(path)\n",
    "# display(trades)\n",
    "# trades.info()\n",
    "# display('Duplicates count',trades.duplicated().sum())"
   ]
  },
  {
   "cell_type": "code",
   "execution_count": 4,
   "id": "c312c9cd-4de1-482f-99fc-1cef42170086",
   "metadata": {},
   "outputs": [],
   "source": [
    "resampled = trades.set_index('datetime').groupby(pd.Grouper(freq='1Min'))\n",
    "# time_bars = get_bar_stats(resampled)\n",
    "one_minute_bar = get_bar_stats(resampled)\n",
    "one_minute_bar = one_minute_bar.dropna()"
   ]
  },
  {
   "cell_type": "code",
   "execution_count": 5,
   "id": "f926c967-87b9-46ce-999d-6bbc5a6e31ce",
   "metadata": {},
   "outputs": [
    {
     "data": {
      "text/html": [
       "<div>\n",
       "<style scoped>\n",
       "    .dataframe tbody tr th:only-of-type {\n",
       "        vertical-align: middle;\n",
       "    }\n",
       "\n",
       "    .dataframe tbody tr th {\n",
       "        vertical-align: top;\n",
       "    }\n",
       "\n",
       "    .dataframe thead th {\n",
       "        text-align: right;\n",
       "    }\n",
       "</style>\n",
       "<table border=\"1\" class=\"dataframe\">\n",
       "  <thead>\n",
       "    <tr style=\"text-align: right;\">\n",
       "      <th></th>\n",
       "      <th>open</th>\n",
       "      <th>high</th>\n",
       "      <th>low</th>\n",
       "      <th>close</th>\n",
       "      <th>vwap</th>\n",
       "      <th>volume</th>\n",
       "      <th>txn</th>\n",
       "    </tr>\n",
       "    <tr>\n",
       "      <th>datetime</th>\n",
       "      <th></th>\n",
       "      <th></th>\n",
       "      <th></th>\n",
       "      <th></th>\n",
       "      <th></th>\n",
       "      <th></th>\n",
       "      <th></th>\n",
       "    </tr>\n",
       "  </thead>\n",
       "  <tbody>\n",
       "    <tr>\n",
       "      <th>2022-08-19 10:00:00</th>\n",
       "      <td>111670.0</td>\n",
       "      <td>111970.0</td>\n",
       "      <td>111300.0</td>\n",
       "      <td>111700.0</td>\n",
       "      <td>0</td>\n",
       "      <td>1455</td>\n",
       "      <td>832</td>\n",
       "    </tr>\n",
       "    <tr>\n",
       "      <th>2022-08-19 10:01:00</th>\n",
       "      <td>111700.0</td>\n",
       "      <td>111850.0</td>\n",
       "      <td>111580.0</td>\n",
       "      <td>111670.0</td>\n",
       "      <td>0</td>\n",
       "      <td>731</td>\n",
       "      <td>466</td>\n",
       "    </tr>\n",
       "    <tr>\n",
       "      <th>2022-08-19 10:02:00</th>\n",
       "      <td>111670.0</td>\n",
       "      <td>111670.0</td>\n",
       "      <td>111400.0</td>\n",
       "      <td>111520.0</td>\n",
       "      <td>0</td>\n",
       "      <td>715</td>\n",
       "      <td>413</td>\n",
       "    </tr>\n",
       "    <tr>\n",
       "      <th>2022-08-19 10:03:00</th>\n",
       "      <td>111530.0</td>\n",
       "      <td>111730.0</td>\n",
       "      <td>111360.0</td>\n",
       "      <td>111430.0</td>\n",
       "      <td>0</td>\n",
       "      <td>636</td>\n",
       "      <td>440</td>\n",
       "    </tr>\n",
       "    <tr>\n",
       "      <th>2022-08-19 10:04:00</th>\n",
       "      <td>111450.0</td>\n",
       "      <td>111670.0</td>\n",
       "      <td>111210.0</td>\n",
       "      <td>111250.0</td>\n",
       "      <td>0</td>\n",
       "      <td>1014</td>\n",
       "      <td>563</td>\n",
       "    </tr>\n",
       "    <tr>\n",
       "      <th>...</th>\n",
       "      <td>...</td>\n",
       "      <td>...</td>\n",
       "      <td>...</td>\n",
       "      <td>...</td>\n",
       "      <td>...</td>\n",
       "      <td>...</td>\n",
       "      <td>...</td>\n",
       "    </tr>\n",
       "    <tr>\n",
       "      <th>2022-08-19 23:45:00</th>\n",
       "      <td>112480.0</td>\n",
       "      <td>112480.0</td>\n",
       "      <td>112450.0</td>\n",
       "      <td>112470.0</td>\n",
       "      <td>0</td>\n",
       "      <td>23</td>\n",
       "      <td>12</td>\n",
       "    </tr>\n",
       "    <tr>\n",
       "      <th>2022-08-19 23:46:00</th>\n",
       "      <td>112470.0</td>\n",
       "      <td>112490.0</td>\n",
       "      <td>112450.0</td>\n",
       "      <td>112490.0</td>\n",
       "      <td>0</td>\n",
       "      <td>31</td>\n",
       "      <td>14</td>\n",
       "    </tr>\n",
       "    <tr>\n",
       "      <th>2022-08-19 23:47:00</th>\n",
       "      <td>112490.0</td>\n",
       "      <td>112490.0</td>\n",
       "      <td>112430.0</td>\n",
       "      <td>112440.0</td>\n",
       "      <td>0</td>\n",
       "      <td>32</td>\n",
       "      <td>7</td>\n",
       "    </tr>\n",
       "    <tr>\n",
       "      <th>2022-08-19 23:48:00</th>\n",
       "      <td>112470.0</td>\n",
       "      <td>112520.0</td>\n",
       "      <td>112430.0</td>\n",
       "      <td>112430.0</td>\n",
       "      <td>0</td>\n",
       "      <td>96</td>\n",
       "      <td>56</td>\n",
       "    </tr>\n",
       "    <tr>\n",
       "      <th>2022-08-19 23:49:00</th>\n",
       "      <td>112510.0</td>\n",
       "      <td>112600.0</td>\n",
       "      <td>112390.0</td>\n",
       "      <td>112590.0</td>\n",
       "      <td>0</td>\n",
       "      <td>162</td>\n",
       "      <td>104</td>\n",
       "    </tr>\n",
       "  </tbody>\n",
       "</table>\n",
       "<p>794 rows × 7 columns</p>\n",
       "</div>"
      ],
      "text/plain": [
       "                         open      high       low     close  vwap  volume  txn\n",
       "datetime                                                                      \n",
       "2022-08-19 10:00:00  111670.0  111970.0  111300.0  111700.0     0    1455  832\n",
       "2022-08-19 10:01:00  111700.0  111850.0  111580.0  111670.0     0     731  466\n",
       "2022-08-19 10:02:00  111670.0  111670.0  111400.0  111520.0     0     715  413\n",
       "2022-08-19 10:03:00  111530.0  111730.0  111360.0  111430.0     0     636  440\n",
       "2022-08-19 10:04:00  111450.0  111670.0  111210.0  111250.0     0    1014  563\n",
       "...                       ...       ...       ...       ...   ...     ...  ...\n",
       "2022-08-19 23:45:00  112480.0  112480.0  112450.0  112470.0     0      23   12\n",
       "2022-08-19 23:46:00  112470.0  112490.0  112450.0  112490.0     0      31   14\n",
       "2022-08-19 23:47:00  112490.0  112490.0  112430.0  112440.0     0      32    7\n",
       "2022-08-19 23:48:00  112470.0  112520.0  112430.0  112430.0     0      96   56\n",
       "2022-08-19 23:49:00  112510.0  112600.0  112390.0  112590.0     0     162  104\n",
       "\n",
       "[794 rows x 7 columns]"
      ]
     },
     "execution_count": 5,
     "metadata": {},
     "output_type": "execute_result"
    }
   ],
   "source": [
    "one_minute_bar"
   ]
  },
  {
   "cell_type": "markdown",
   "id": "03785194-9de4-4b5a-9a51-a58a1ef09a4d",
   "metadata": {},
   "source": [
    "Is 1 minute grouping correct? Is minute 10:00:00 consists of all trades from 10:00:00 to 10:00:59.999? Is it the correct way to build bars?"
   ]
  },
  {
   "cell_type": "code",
   "execution_count": null,
   "id": "bd34af3f-8d55-4408-ad70-f6c1c43880f8",
   "metadata": {},
   "outputs": [],
   "source": [
    "path = 'data/trades_RIU2@FORTS_2022_08_23_2022_08_23.csv'\n",
    "trades_valid = load_trades_from_csv(path)\n",
    "# display(trades_valid)\n",
    "# trades_valid.info()\n",
    "# display('Duplicates count',trades_valid.duplicated().sum())\n",
    "resampled_valid = trades_valid.set_index('datetime').groupby(pd.Grouper(freq='1Min'))\n",
    "one_minute_bar_valid = get_bar_stats(resampled_valid)\n",
    "one_minute_bar_valid = one_minute_bar_valid.dropna()"
   ]
  },
  {
   "cell_type": "code",
   "execution_count": null,
   "id": "57415c01-1725-47b0-ac50-0a647cdd4cc4",
   "metadata": {},
   "outputs": [],
   "source": [
    "data = pd.concat([one_minute_bar,one_minute_bar_valid])\n",
    "data.columns = ['Open','High','Low','Close','VWAP','Volume','Txn']"
   ]
  },
  {
   "cell_type": "code",
   "execution_count": null,
   "id": "b189373c-4f45-4256-9afe-04f5ff445375",
   "metadata": {},
   "outputs": [],
   "source": [
    "data"
   ]
  },
  {
   "cell_type": "code",
   "execution_count": null,
   "id": "047bba99-af1b-428d-9d33-5e9d4269d561",
   "metadata": {},
   "outputs": [],
   "source": [
    "def SMA(values, n):\n",
    "    \"\"\"\n",
    "    Return simple moving average of `values`, at\n",
    "    each step taking into account `n` previous values.\n",
    "    \"\"\"\n",
    "    return pd.Series(values).rolling(n).mean()"
   ]
  },
  {
   "cell_type": "code",
   "execution_count": null,
   "id": "6df53ccf-e313-4112-94d3-c2d934f98323",
   "metadata": {},
   "outputs": [],
   "source": [
    "class SmaCross(Strategy):\n",
    "    n1 = 10\n",
    "    n2 = 20\n",
    "    \n",
    "    def init(self):\n",
    "        self.sma1 = self.I(SMA, self.data['Close'], self.n1)\n",
    "        self.sma2 = self.I(SMA, self.data['Close'], self.n2)\n",
    "        \n",
    "    def next(self):\n",
    "        # If sma1 crosses above sma2, close any existing\n",
    "        # short trades, and buy the asset\n",
    "        if crossover(self.sma1,self.sma2):\n",
    "            self.position.close()\n",
    "            self.buy()\n",
    "        \n",
    "        elif crossover(self.sma2, self.sma1):\n",
    "            self.position.close()\n",
    "            self.sell()"
   ]
  },
  {
   "cell_type": "code",
   "execution_count": null,
   "id": "50bdd2a4-a112-46f5-8cd8-9fc8c362afc6",
   "metadata": {},
   "outputs": [],
   "source": [
    "bt = Backtest(data, SmaCross, cash=10_000_000, commission=.002)\n",
    "stats = bt.run()\n",
    "stats"
   ]
  },
  {
   "cell_type": "code",
   "execution_count": null,
   "id": "d2b152d8-b8da-4612-b87f-ead38288e8ea",
   "metadata": {},
   "outputs": [],
   "source": [
    "bt.plot()"
   ]
  },
  {
   "cell_type": "code",
   "execution_count": null,
   "id": "f18365b5-55be-4004-bbf9-55adee92ad1b",
   "metadata": {},
   "outputs": [],
   "source": [
    "%%time\n",
    "\n",
    "stats = bt.optimize(n1=range(5, 30, 5),\n",
    "                    n2=range(10, 70, 5),\n",
    "                    maximize='Equity Final [$]',\n",
    "                    constraint=lambda param: param.n1 < param.n2)\n",
    "stats"
   ]
  },
  {
   "cell_type": "code",
   "execution_count": null,
   "id": "051cc17d-bf75-46b2-9a52-7cbb175c8a40",
   "metadata": {},
   "outputs": [],
   "source": [
    "stats._strategy"
   ]
  },
  {
   "cell_type": "code",
   "execution_count": null,
   "id": "7b78dacf-c076-4ee9-aa1d-0f2d5a93d679",
   "metadata": {},
   "outputs": [],
   "source": [
    "bt.plot(plot_volume=False, plot_pl=False)"
   ]
  },
  {
   "cell_type": "code",
   "execution_count": null,
   "id": "f8cf46d1-9eed-4932-866c-917985ebb7e1",
   "metadata": {},
   "outputs": [],
   "source": [
    "stats.tail()"
   ]
  },
  {
   "cell_type": "code",
   "execution_count": null,
   "id": "52bc9781-42d4-46fe-9e92-5fd850b1c7f4",
   "metadata": {},
   "outputs": [],
   "source": [
    "stats['_equity_curve']  # Contains equity/drawdown curves. DrawdownDuration is only defined at ends of DD periods."
   ]
  },
  {
   "cell_type": "code",
   "execution_count": null,
   "id": "007a81c2-91df-46df-b24c-8499fb01dd6b",
   "metadata": {},
   "outputs": [],
   "source": [
    "stats['_trades']  # Contains individual trade data"
   ]
  }
 ],
 "metadata": {
  "kernelspec": {
   "display_name": "Python 3 (ipykernel)",
   "language": "python",
   "name": "python3"
  },
  "language_info": {
   "codemirror_mode": {
    "name": "ipython",
    "version": 3
   },
   "file_extension": ".py",
   "mimetype": "text/x-python",
   "name": "python",
   "nbconvert_exporter": "python",
   "pygments_lexer": "ipython3",
   "version": "3.9.12"
  }
 },
 "nbformat": 4,
 "nbformat_minor": 5
}
